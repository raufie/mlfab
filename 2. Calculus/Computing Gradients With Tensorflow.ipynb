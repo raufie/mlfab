{
 "cells": [
  {
   "cell_type": "markdown",
   "metadata": {},
   "source": [
    "# Instal tensorflow\n",
    "You can install it using command prompt or directly here"
   ]
  },
  {
   "cell_type": "code",
   "execution_count": null,
   "metadata": {
    "scrolled": true
   },
   "outputs": [],
   "source": [
    "!pip install tensorflow"
   ]
  },
  {
   "cell_type": "code",
   "execution_count": 10,
   "metadata": {},
   "outputs": [],
   "source": [
    "import tensorflow as tf\n",
    "from tensorflow import GradientTape"
   ]
  },
  {
   "cell_type": "markdown",
   "metadata": {},
   "source": [
    "# Constant\n",
    "Before calculating gradients we must know about constants and variables. We can not use a basic constant or a basic python variable here, tensorflow uses computation graphs for calculating gradients that's why we use tf.constant and tf.Variable here. tf.constant is a tensor whose value can not be changed, and tf.Variable is also a tensor whose value can be changed unlike tf.constant"
   ]
  },
  {
   "cell_type": "code",
   "execution_count": 47,
   "metadata": {},
   "outputs": [
    {
     "data": {
      "text/plain": [
       "<tf.Tensor: shape=(), dtype=float32, numpy=4.0>"
      ]
     },
     "execution_count": 47,
     "metadata": {},
     "output_type": "execute_result"
    }
   ],
   "source": [
    "c = tf.constant(4.0)\n",
    "c"
   ]
  },
  {
   "cell_type": "markdown",
   "metadata": {},
   "source": [
    "# Variable\n",
    "These are also called trainable variables, as we will see when we move on to the main tensorflow section how they are used in training neural nets. Their values can be changes over time. \n"
   ]
  },
  {
   "cell_type": "code",
   "execution_count": 53,
   "metadata": {},
   "outputs": [
    {
     "data": {
      "text/plain": [
       "<tf.Variable 'Variable:0' shape=() dtype=float32, numpy=23.0>"
      ]
     },
     "execution_count": 53,
     "metadata": {},
     "output_type": "execute_result"
    }
   ],
   "source": [
    "v = tf.Variable(23.0)\n",
    "v"
   ]
  },
  {
   "cell_type": "markdown",
   "metadata": {},
   "source": [
    "# Gradient Tape\n",
    "Using gradient tape we can compute gradients. The GradientTape context will automatically track tf.Variable tensors but it will not track tf.Constant tensors. Let's take a function as an example, compute its gradients ourselves and then use GradientTape"
   ]
  },
  {
   "cell_type": "markdown",
   "metadata": {},
   "source": [
    "# $f(x,y) = 2x^2 +3y + 5x^2y$\n",
    "\n",
    "### The gradients for this function\n",
    "\n",
    "# $\\frac{\\partial f(x,y)}{\\partial x} =f'_x = 4x + 10xy $ \n",
    "# $\\frac{\\partial f(x,y)}{\\partial y} =f'_y = 3 + 5x^2 $ \n",
    "\n",
    "### At x = 4, y = 8\n",
    "\n",
    "# $\\frac{\\partial f(x,y)}{\\partial x} = 4\\cdot4 + 10\\cdot4\\cdot8 = 16+320 =326 $\n",
    "# $\\frac{\\partial f(x,y)}{\\partial x} = 3 + 5\\cdot4^2 = 3+80 =83 $"
   ]
  },
  {
   "cell_type": "markdown",
   "metadata": {},
   "source": [
    "# Define Function with tf.function wrapper"
   ]
  },
  {
   "cell_type": "code",
   "execution_count": 55,
   "metadata": {},
   "outputs": [],
   "source": [
    "@tf.function\n",
    "def f(x,y):\n",
    "    return 2*x**2 +3*y+ 5*(x**2)*y"
   ]
  },
  {
   "cell_type": "markdown",
   "metadata": {},
   "source": [
    "## Define Tf.Variable(s) with values 4 and 8"
   ]
  },
  {
   "cell_type": "code",
   "execution_count": 56,
   "metadata": {},
   "outputs": [],
   "source": [
    "x = tf.Variable(4.0)\n",
    "y = tf.Variable(8.0)\n"
   ]
  },
  {
   "cell_type": "markdown",
   "metadata": {},
   "source": [
    "## Using GradientTape"
   ]
  },
  {
   "cell_type": "code",
   "execution_count": 57,
   "metadata": {},
   "outputs": [
    {
     "name": "stdout",
     "output_type": "stream",
     "text": [
      "[<tf.Tensor: shape=(), dtype=float32, numpy=336.0>, <tf.Tensor: shape=(), dtype=float32, numpy=83.0>]\n"
     ]
    }
   ],
   "source": [
    "with GradientTape() as tape:\n",
    "#     the tape tracks operations in this context... \n",
    "    z = f(x,y)\n",
    "\n",
    "gradients = tape.gradient(z,[x,y])\n",
    "# this tape can only be used once \n",
    "print(gradients)\n",
    "    "
   ]
  },
  {
   "cell_type": "markdown",
   "metadata": {},
   "source": [
    "# Using tf.constant instead\n",
    "It's not advised that you use tf.constant but just to prove a point let's see what happens if we do use it"
   ]
  },
  {
   "cell_type": "code",
   "execution_count": 51,
   "metadata": {},
   "outputs": [
    {
     "name": "stdout",
     "output_type": "stream",
     "text": [
      "[None, None]\n"
     ]
    }
   ],
   "source": [
    "x = tf.constant(4.0)\n",
    "y = tf.constant(8.0)\n",
    "with GradientTape() as tape:\n",
    "#     the tape tracks operations in this context... \n",
    "    z = f(x,y)\n",
    "\n",
    "gradients = tape.gradient(z,[x,y])\n",
    "# this tape can only be used once \n",
    "print(gradients)\n",
    "    "
   ]
  },
  {
   "cell_type": "markdown",
   "metadata": {},
   "source": [
    "You get none as the answer, we can use the tape.watch(t) to track the variable that we want to track(in this case where the tensor is not a tf.Variable and is not tracked by default)"
   ]
  },
  {
   "cell_type": "code",
   "execution_count": 52,
   "metadata": {},
   "outputs": [
    {
     "name": "stdout",
     "output_type": "stream",
     "text": [
      "[<tf.Tensor: shape=(), dtype=float32, numpy=336.0>, <tf.Tensor: shape=(), dtype=float32, numpy=83.0>]\n"
     ]
    }
   ],
   "source": [
    "x = tf.Variable(4.0)\n",
    "y = tf.Variable(8.0)\n",
    "with GradientTape() as tape:\n",
    "#     the tape tracks operations in this context... \n",
    "    tape.watch(x)\n",
    "    tape.watch(y)\n",
    "    z = f(x,y)\n",
    "\n",
    "gradients = tape.gradient(z,[x,y])\n",
    "# this tape can only be used once \n",
    "print(gradients)\n",
    "    "
   ]
  },
  {
   "cell_type": "code",
   "execution_count": null,
   "metadata": {},
   "outputs": [],
   "source": []
  }
 ],
 "metadata": {
  "kernelspec": {
   "display_name": "Python 3",
   "language": "python",
   "name": "python3"
  },
  "language_info": {
   "codemirror_mode": {
    "name": "ipython",
    "version": 3
   },
   "file_extension": ".py",
   "mimetype": "text/x-python",
   "name": "python",
   "nbconvert_exporter": "python",
   "pygments_lexer": "ipython3",
   "version": "3.8.7"
  }
 },
 "nbformat": 4,
 "nbformat_minor": 4
}
